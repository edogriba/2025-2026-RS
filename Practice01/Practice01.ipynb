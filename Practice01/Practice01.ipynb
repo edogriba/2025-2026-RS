{
 "cells": [
  {
   "cell_type": "markdown",
   "id": "863c35ef",
   "metadata": {},
   "source": [
    "# Practice 01"
   ]
  },
  {
   "cell_type": "markdown",
   "id": "1521018c",
   "metadata": {},
   "source": [
    "## Download dataset and create data structures"
   ]
  },
  {
   "cell_type": "code",
   "execution_count": 1,
   "id": "7592f932",
   "metadata": {},
   "outputs": [],
   "source": [
    "import numpy as np\n",
    "import matplotlib.pyplot as plt\n",
    "import pandas as pd\n",
    "import scipy.sparse as sps"
   ]
  },
  {
   "cell_type": "code",
   "execution_count": 2,
   "id": "458abbb7",
   "metadata": {},
   "outputs": [
    {
     "name": "stdout",
     "output_type": "stream",
     "text": [
      "Requirement already satisfied: kaggle in /opt/anaconda3/envs/RecSysFramework/lib/python3.9/site-packages (1.7.4.5)\n",
      "Requirement already satisfied: bleach in /opt/anaconda3/envs/RecSysFramework/lib/python3.9/site-packages (from kaggle) (4.1.0)\n",
      "Requirement already satisfied: certifi>=14.05.14 in /opt/anaconda3/envs/RecSysFramework/lib/python3.9/site-packages (from kaggle) (2025.10.5)\n",
      "Requirement already satisfied: charset-normalizer in /opt/anaconda3/envs/RecSysFramework/lib/python3.9/site-packages (from kaggle) (2.0.4)\n",
      "Requirement already satisfied: idna in /opt/anaconda3/envs/RecSysFramework/lib/python3.9/site-packages (from kaggle) (3.7)\n",
      "Requirement already satisfied: protobuf in /opt/anaconda3/envs/RecSysFramework/lib/python3.9/site-packages (from kaggle) (3.20.3)\n",
      "Requirement already satisfied: python-dateutil>=2.5.3 in /opt/anaconda3/envs/RecSysFramework/lib/python3.9/site-packages (from kaggle) (2.9.0.post0)\n",
      "Requirement already satisfied: python-slugify in /opt/anaconda3/envs/RecSysFramework/lib/python3.9/site-packages (from kaggle) (5.0.2)\n",
      "Requirement already satisfied: requests in /opt/anaconda3/envs/RecSysFramework/lib/python3.9/site-packages (from kaggle) (2.32.2)\n",
      "Requirement already satisfied: setuptools>=21.0.0 in /opt/anaconda3/envs/RecSysFramework/lib/python3.9/site-packages (from kaggle) (69.5.1)\n",
      "Requirement already satisfied: six>=1.10 in /opt/anaconda3/envs/RecSysFramework/lib/python3.9/site-packages (from kaggle) (1.16.0)\n",
      "Requirement already satisfied: text-unidecode in /opt/anaconda3/envs/RecSysFramework/lib/python3.9/site-packages (from kaggle) (1.3)\n",
      "Requirement already satisfied: tqdm in /opt/anaconda3/envs/RecSysFramework/lib/python3.9/site-packages (from kaggle) (4.66.4)\n",
      "Requirement already satisfied: urllib3>=1.15.1 in /opt/anaconda3/envs/RecSysFramework/lib/python3.9/site-packages (from kaggle) (1.26.19)\n",
      "Requirement already satisfied: webencodings in /opt/anaconda3/envs/RecSysFramework/lib/python3.9/site-packages (from kaggle) (0.5.1)\n",
      "Requirement already satisfied: packaging in /opt/anaconda3/envs/RecSysFramework/lib/python3.9/site-packages (from bleach->kaggle) (23.2)\n"
     ]
    }
   ],
   "source": [
    "!pip install kaggle"
   ]
  },
  {
   "cell_type": "code",
   "execution_count": 3,
   "id": "6c5c15cd",
   "metadata": {},
   "outputs": [
    {
     "name": "stdout",
     "output_type": "stream",
     "text": [
      "Dataset URL: https://www.kaggle.com/datasets/arashnic/book-recommendation-dataset\n",
      "License(s): CC0-1.0\n",
      "book-recommendation-dataset.zip: Skipping, found more recently modified local copy (use --force to force download)\n"
     ]
    }
   ],
   "source": [
    "!kaggle datasets download -d arashnic/book-recommendation-dataset"
   ]
  },
  {
   "cell_type": "code",
   "execution_count": 4,
   "id": "1cecbed7",
   "metadata": {},
   "outputs": [
    {
     "name": "stdout",
     "output_type": "stream",
     "text": [
      "Archive:  book-recommendation-dataset.zip\n",
      "  inflating: Books.csv               \n",
      "  inflating: DeepRec.png             \n",
      "  inflating: Ratings.csv             \n",
      "  inflating: Users.csv               \n",
      "  inflating: classicRec.png          \n",
      "  inflating: recsys_taxonomy2.png    \n"
     ]
    }
   ],
   "source": [
    "!unzip -o book-recommendation-dataset.zip"
   ]
  },
  {
   "cell_type": "code",
   "execution_count": 5,
   "id": "1de7c886",
   "metadata": {},
   "outputs": [
    {
     "name": "stderr",
     "output_type": "stream",
     "text": [
      "/var/folders/b8/rzcf55796dx0l9hv3jf_nxnr0000gn/T/ipykernel_91848/3945710838.py:1: DtypeWarning: Columns (3) have mixed types. Specify dtype option on import or set low_memory=False.\n",
      "  books = pd.read_csv('Books.csv', sep=',')\n"
     ]
    },
    {
     "data": {
      "text/html": [
       "<div>\n",
       "<style scoped>\n",
       "    .dataframe tbody tr th:only-of-type {\n",
       "        vertical-align: middle;\n",
       "    }\n",
       "\n",
       "    .dataframe tbody tr th {\n",
       "        vertical-align: top;\n",
       "    }\n",
       "\n",
       "    .dataframe thead th {\n",
       "        text-align: right;\n",
       "    }\n",
       "</style>\n",
       "<table border=\"1\" class=\"dataframe\">\n",
       "  <thead>\n",
       "    <tr style=\"text-align: right;\">\n",
       "      <th></th>\n",
       "      <th>ISBN</th>\n",
       "      <th>Book-Title</th>\n",
       "      <th>Book-Author</th>\n",
       "      <th>Year-Of-Publication</th>\n",
       "      <th>Publisher</th>\n",
       "      <th>Image-URL-S</th>\n",
       "      <th>Image-URL-M</th>\n",
       "      <th>Image-URL-L</th>\n",
       "    </tr>\n",
       "  </thead>\n",
       "  <tbody>\n",
       "    <tr>\n",
       "      <th>0</th>\n",
       "      <td>0195153448</td>\n",
       "      <td>Classical Mythology</td>\n",
       "      <td>Mark P. O. Morford</td>\n",
       "      <td>2002</td>\n",
       "      <td>Oxford University Press</td>\n",
       "      <td>http://images.amazon.com/images/P/0195153448.0...</td>\n",
       "      <td>http://images.amazon.com/images/P/0195153448.0...</td>\n",
       "      <td>http://images.amazon.com/images/P/0195153448.0...</td>\n",
       "    </tr>\n",
       "    <tr>\n",
       "      <th>1</th>\n",
       "      <td>0002005018</td>\n",
       "      <td>Clara Callan</td>\n",
       "      <td>Richard Bruce Wright</td>\n",
       "      <td>2001</td>\n",
       "      <td>HarperFlamingo Canada</td>\n",
       "      <td>http://images.amazon.com/images/P/0002005018.0...</td>\n",
       "      <td>http://images.amazon.com/images/P/0002005018.0...</td>\n",
       "      <td>http://images.amazon.com/images/P/0002005018.0...</td>\n",
       "    </tr>\n",
       "    <tr>\n",
       "      <th>2</th>\n",
       "      <td>0060973129</td>\n",
       "      <td>Decision in Normandy</td>\n",
       "      <td>Carlo D'Este</td>\n",
       "      <td>1991</td>\n",
       "      <td>HarperPerennial</td>\n",
       "      <td>http://images.amazon.com/images/P/0060973129.0...</td>\n",
       "      <td>http://images.amazon.com/images/P/0060973129.0...</td>\n",
       "      <td>http://images.amazon.com/images/P/0060973129.0...</td>\n",
       "    </tr>\n",
       "    <tr>\n",
       "      <th>3</th>\n",
       "      <td>0374157065</td>\n",
       "      <td>Flu: The Story of the Great Influenza Pandemic...</td>\n",
       "      <td>Gina Bari Kolata</td>\n",
       "      <td>1999</td>\n",
       "      <td>Farrar Straus Giroux</td>\n",
       "      <td>http://images.amazon.com/images/P/0374157065.0...</td>\n",
       "      <td>http://images.amazon.com/images/P/0374157065.0...</td>\n",
       "      <td>http://images.amazon.com/images/P/0374157065.0...</td>\n",
       "    </tr>\n",
       "    <tr>\n",
       "      <th>4</th>\n",
       "      <td>0393045218</td>\n",
       "      <td>The Mummies of Urumchi</td>\n",
       "      <td>E. J. W. Barber</td>\n",
       "      <td>1999</td>\n",
       "      <td>W. W. Norton &amp;amp; Company</td>\n",
       "      <td>http://images.amazon.com/images/P/0393045218.0...</td>\n",
       "      <td>http://images.amazon.com/images/P/0393045218.0...</td>\n",
       "      <td>http://images.amazon.com/images/P/0393045218.0...</td>\n",
       "    </tr>\n",
       "  </tbody>\n",
       "</table>\n",
       "</div>"
      ],
      "text/plain": [
       "         ISBN                                         Book-Title  \\\n",
       "0  0195153448                                Classical Mythology   \n",
       "1  0002005018                                       Clara Callan   \n",
       "2  0060973129                               Decision in Normandy   \n",
       "3  0374157065  Flu: The Story of the Great Influenza Pandemic...   \n",
       "4  0393045218                             The Mummies of Urumchi   \n",
       "\n",
       "            Book-Author Year-Of-Publication                   Publisher  \\\n",
       "0    Mark P. O. Morford                2002     Oxford University Press   \n",
       "1  Richard Bruce Wright                2001       HarperFlamingo Canada   \n",
       "2          Carlo D'Este                1991             HarperPerennial   \n",
       "3      Gina Bari Kolata                1999        Farrar Straus Giroux   \n",
       "4       E. J. W. Barber                1999  W. W. Norton &amp; Company   \n",
       "\n",
       "                                         Image-URL-S  \\\n",
       "0  http://images.amazon.com/images/P/0195153448.0...   \n",
       "1  http://images.amazon.com/images/P/0002005018.0...   \n",
       "2  http://images.amazon.com/images/P/0060973129.0...   \n",
       "3  http://images.amazon.com/images/P/0374157065.0...   \n",
       "4  http://images.amazon.com/images/P/0393045218.0...   \n",
       "\n",
       "                                         Image-URL-M  \\\n",
       "0  http://images.amazon.com/images/P/0195153448.0...   \n",
       "1  http://images.amazon.com/images/P/0002005018.0...   \n",
       "2  http://images.amazon.com/images/P/0060973129.0...   \n",
       "3  http://images.amazon.com/images/P/0374157065.0...   \n",
       "4  http://images.amazon.com/images/P/0393045218.0...   \n",
       "\n",
       "                                         Image-URL-L  \n",
       "0  http://images.amazon.com/images/P/0195153448.0...  \n",
       "1  http://images.amazon.com/images/P/0002005018.0...  \n",
       "2  http://images.amazon.com/images/P/0060973129.0...  \n",
       "3  http://images.amazon.com/images/P/0374157065.0...  \n",
       "4  http://images.amazon.com/images/P/0393045218.0...  "
      ]
     },
     "execution_count": 5,
     "metadata": {},
     "output_type": "execute_result"
    }
   ],
   "source": [
    "books = pd.read_csv('Books.csv', sep=',')\n",
    "books.head()"
   ]
  },
  {
   "cell_type": "code",
   "execution_count": 6,
   "id": "8a8cbc55",
   "metadata": {},
   "outputs": [
    {
     "data": {
      "text/html": [
       "<div>\n",
       "<style scoped>\n",
       "    .dataframe tbody tr th:only-of-type {\n",
       "        vertical-align: middle;\n",
       "    }\n",
       "\n",
       "    .dataframe tbody tr th {\n",
       "        vertical-align: top;\n",
       "    }\n",
       "\n",
       "    .dataframe thead th {\n",
       "        text-align: right;\n",
       "    }\n",
       "</style>\n",
       "<table border=\"1\" class=\"dataframe\">\n",
       "  <thead>\n",
       "    <tr style=\"text-align: right;\">\n",
       "      <th></th>\n",
       "      <th>User-ID</th>\n",
       "      <th>Location</th>\n",
       "      <th>Age</th>\n",
       "    </tr>\n",
       "  </thead>\n",
       "  <tbody>\n",
       "    <tr>\n",
       "      <th>0</th>\n",
       "      <td>1</td>\n",
       "      <td>nyc, new york, usa</td>\n",
       "      <td>NaN</td>\n",
       "    </tr>\n",
       "    <tr>\n",
       "      <th>1</th>\n",
       "      <td>2</td>\n",
       "      <td>stockton, california, usa</td>\n",
       "      <td>18.0</td>\n",
       "    </tr>\n",
       "    <tr>\n",
       "      <th>2</th>\n",
       "      <td>3</td>\n",
       "      <td>moscow, yukon territory, russia</td>\n",
       "      <td>NaN</td>\n",
       "    </tr>\n",
       "    <tr>\n",
       "      <th>3</th>\n",
       "      <td>4</td>\n",
       "      <td>porto, v.n.gaia, portugal</td>\n",
       "      <td>17.0</td>\n",
       "    </tr>\n",
       "    <tr>\n",
       "      <th>4</th>\n",
       "      <td>5</td>\n",
       "      <td>farnborough, hants, united kingdom</td>\n",
       "      <td>NaN</td>\n",
       "    </tr>\n",
       "  </tbody>\n",
       "</table>\n",
       "</div>"
      ],
      "text/plain": [
       "   User-ID                            Location   Age\n",
       "0        1                  nyc, new york, usa   NaN\n",
       "1        2           stockton, california, usa  18.0\n",
       "2        3     moscow, yukon territory, russia   NaN\n",
       "3        4           porto, v.n.gaia, portugal  17.0\n",
       "4        5  farnborough, hants, united kingdom   NaN"
      ]
     },
     "execution_count": 6,
     "metadata": {},
     "output_type": "execute_result"
    }
   ],
   "source": [
    "users = pd.read_csv('Users.csv', sep=',')\n",
    "users.head()"
   ]
  },
  {
   "cell_type": "code",
   "execution_count": 7,
   "id": "d33847f2",
   "metadata": {},
   "outputs": [
    {
     "data": {
      "text/html": [
       "<div>\n",
       "<style scoped>\n",
       "    .dataframe tbody tr th:only-of-type {\n",
       "        vertical-align: middle;\n",
       "    }\n",
       "\n",
       "    .dataframe tbody tr th {\n",
       "        vertical-align: top;\n",
       "    }\n",
       "\n",
       "    .dataframe thead th {\n",
       "        text-align: right;\n",
       "    }\n",
       "</style>\n",
       "<table border=\"1\" class=\"dataframe\">\n",
       "  <thead>\n",
       "    <tr style=\"text-align: right;\">\n",
       "      <th></th>\n",
       "      <th>User-ID</th>\n",
       "      <th>ISBN</th>\n",
       "      <th>Book-Rating</th>\n",
       "    </tr>\n",
       "  </thead>\n",
       "  <tbody>\n",
       "    <tr>\n",
       "      <th>0</th>\n",
       "      <td>276725</td>\n",
       "      <td>034545104X</td>\n",
       "      <td>0</td>\n",
       "    </tr>\n",
       "    <tr>\n",
       "      <th>1</th>\n",
       "      <td>276726</td>\n",
       "      <td>0155061224</td>\n",
       "      <td>5</td>\n",
       "    </tr>\n",
       "    <tr>\n",
       "      <th>2</th>\n",
       "      <td>276727</td>\n",
       "      <td>0446520802</td>\n",
       "      <td>0</td>\n",
       "    </tr>\n",
       "    <tr>\n",
       "      <th>3</th>\n",
       "      <td>276729</td>\n",
       "      <td>052165615X</td>\n",
       "      <td>3</td>\n",
       "    </tr>\n",
       "    <tr>\n",
       "      <th>4</th>\n",
       "      <td>276729</td>\n",
       "      <td>0521795028</td>\n",
       "      <td>6</td>\n",
       "    </tr>\n",
       "  </tbody>\n",
       "</table>\n",
       "</div>"
      ],
      "text/plain": [
       "   User-ID        ISBN  Book-Rating\n",
       "0   276725  034545104X            0\n",
       "1   276726  0155061224            5\n",
       "2   276727  0446520802            0\n",
       "3   276729  052165615X            3\n",
       "4   276729  0521795028            6"
      ]
     },
     "execution_count": 7,
     "metadata": {},
     "output_type": "execute_result"
    }
   ],
   "source": [
    "ratings = pd.read_csv('Ratings.csv', sep=',')\n",
    "ratings.head()"
   ]
  },
  {
   "cell_type": "code",
   "execution_count": 8,
   "id": "88e9f375",
   "metadata": {},
   "outputs": [
    {
     "name": "stdout",
     "output_type": "stream",
     "text": [
      "URM shape: (105283, 340556)\n",
      "Non-zero entries: 1149780\n"
     ]
    }
   ],
   "source": [
    "ratings['user_index'], user_uniques = pd.factorize(ratings['User-ID'])\n",
    "ratings['item_index'], item_uniques = pd.factorize(ratings['ISBN'])\n",
    "\n",
    "# Build sparse CSR matrix directly\n",
    "URM = sps.csr_matrix(\n",
    "    (ratings['Book-Rating'], (ratings['user_index'], ratings['item_index']))\n",
    ")\n",
    "\n",
    "print(\"URM shape:\", URM.shape)\n",
    "print(\"Non-zero entries:\", URM.nnz)"
   ]
  },
  {
   "cell_type": "code",
   "execution_count": 9,
   "id": "80287952",
   "metadata": {},
   "outputs": [
    {
     "name": "stdout",
     "output_type": "stream",
     "text": [
      "0     0\n",
      "1     5\n",
      "2     0\n",
      "3     3\n",
      "4     6\n",
      "     ..\n",
      "95    0\n",
      "96    0\n",
      "97    6\n",
      "98    0\n",
      "99    0\n",
      "Name: Book-Rating, Length: 100, dtype: int64\n",
      "0      0\n",
      "1      1\n",
      "2      2\n",
      "3      3\n",
      "4      3\n",
      "5      4\n",
      "6      5\n",
      "7      6\n",
      "8      7\n",
      "9      8\n",
      "10     9\n",
      "11     9\n",
      "12     9\n",
      "13     9\n",
      "14     9\n",
      "15     9\n",
      "16    10\n",
      "17    10\n",
      "18    10\n",
      "19    10\n",
      "Name: user_index, dtype: int64\n"
     ]
    }
   ],
   "source": [
    "print(ratings['Book-Rating'][:100])\n",
    "print(ratings['user_index'][:20])"
   ]
  },
  {
   "cell_type": "code",
   "execution_count": 10,
   "id": "edce0dfa",
   "metadata": {},
   "outputs": [
    {
     "data": {
      "image/png": "[encoded data removed]",
      "text/plain": [
       "<Figure size 640x480 with 1 Axes>"
      ]
     },
     "metadata": {},
     "output_type": "display_data"
    }
   ],
   "source": [
    "item_popularity = np.ediff1d(URM.tocsc().indptr)\n",
    "item_popularity.sort()\n",
    "\n",
    "plt.plot(item_popularity, 'ro')\n",
    "plt.ylabel('Num Interactions ')\n",
    "plt.xlabel('Sorted Item')\n",
    "plt.show()"
   ]
  },
  {
   "cell_type": "code",
   "execution_count": 11,
   "id": "f488ce6f",
   "metadata": {},
   "outputs": [
    {
     "name": "stdout",
     "output_type": "stream",
     "text": [
      "Average per-item interactions over the whole dataset 3.38\n",
      "Average per-item interactions for the top 10% popular items 19.08\n",
      "Average per-item interactions for the least 10% popular items 1.00\n",
      "Average per-item interactions for the median 10% popular items 1.00\n"
     ]
    }
   ],
   "source": [
    "n_items = URM.shape[1]\n",
    "ten_percent = int(n_items/10)\n",
    "\n",
    "print(\"Average per-item interactions over the whole dataset {:.2f}\".\n",
    "      format(item_popularity.mean()))\n",
    "\n",
    "print(\"Average per-item interactions for the top 10% popular items {:.2f}\".\n",
    "      format(item_popularity[-ten_percent:].mean()))\n",
    "\n",
    "print(\"Average per-item interactions for the least 10% popular items {:.2f}\".\n",
    "      format(item_popularity[:ten_percent].mean()))\n",
    "\n",
    "print(\"Average per-item interactions for the median 10% popular items {:.2f}\".\n",
    "      format(item_popularity[int(n_items*0.45):int(n_items*0.55)].mean()))"
   ]
  },
  {
   "cell_type": "code",
   "execution_count": 12,
   "id": "fd5a60af",
   "metadata": {},
   "outputs": [
    {
     "name": "stdout",
     "output_type": "stream",
     "text": [
      "Number of items with zero interactions 0\n"
     ]
    }
   ],
   "source": [
    "print(\"Number of items with zero interactions {}\".\n",
    "      format(np.sum(item_popularity==0)))"
   ]
  },
  {
   "cell_type": "code",
   "execution_count": 13,
   "id": "e49b36ce",
   "metadata": {},
   "outputs": [],
   "source": [
    "# This is the right method\n",
    "\n",
    "# %%timeit\n",
    "\n",
    "for user_id in range(URM.shape[0]): \n",
    "    # Do something\n",
    "    user_seen_items = URM.indices[URM.indptr[user_id]:URM.indptr[user_id+1]]"
   ]
  },
  {
   "cell_type": "code",
   "execution_count": 14,
   "id": "b7eb49e9",
   "metadata": {},
   "outputs": [],
   "source": [
    "# This is the wrong method\n",
    "\n",
    "# %%timeit\n",
    "\n",
    "for user_id in range(URM.shape[0]):\n",
    "    # Do something\n",
    "    user_seen_items = URM[user_id].indices"
   ]
  },
  {
   "cell_type": "code",
   "execution_count": 15,
   "id": "4e04156c",
   "metadata": {},
   "outputs": [],
   "source": [
    "train_test_split_percentage = 0.8\n",
    "\n",
    "n_interactions = URM.nnz\n",
    "\n",
    "URM.todense()[0:2, :]\n",
    "\n",
    "train_mask = np.random.choice([True,False], n_interactions, p=[train_test_split_percentage, 1-train_test_split_percentage])\n"
   ]
  },
  {
   "cell_type": "code",
   "execution_count": 16,
   "id": "b720b1db",
   "metadata": {},
   "outputs": [
    {
     "name": "stdout",
     "output_type": "stream",
     "text": [
      "Train URM: (105283, 340556) shape and 919975 interactions\n",
      "Test URM: (105279, 340552) shape and 229805 interactions\n"
     ]
    }
   ],
   "source": [
    "URM_coo = URM.tocoo()\n",
    "\n",
    "train_URM = sps.csr_matrix((URM_coo.data[train_mask],\n",
    "                            (URM_coo.row[train_mask], URM_coo.col[train_mask])))\n",
    "test_URM = sps.csr_matrix((URM_coo.data[~train_mask],\n",
    "                           (URM_coo.row[~train_mask], URM_coo.col[~train_mask])))\n",
    "print(\"Train URM: {} shape and {} interactions\".format(train_URM.shape, train_URM.nnz))\n",
    "print(\"Test URM: {} shape and {} interactions\".format(test_URM.shape, test_URM.nnz))    \n"
   ]
  },
  {
   "cell_type": "markdown",
   "id": "23d8023f",
   "metadata": {},
   "source": [
    "## Define evaluation metrics"
   ]
  },
  {
   "cell_type": "code",
   "execution_count": 17,
   "id": "c400a279",
   "metadata": {},
   "outputs": [],
   "source": [
    "def precision(recommended_items, relevant_items):\n",
    "    \n",
    "    is_relevant = np.in1d(recommended_items, relevant_items, assume_unique=True)\n",
    "    \n",
    "    precision_score = np.sum(is_relevant, dtype=np.float32) / len(is_relevant)\n",
    "    \n",
    "    return precision_score"
   ]
  },
  {
   "cell_type": "code",
   "execution_count": 18,
   "id": "e7331009",
   "metadata": {},
   "outputs": [],
   "source": [
    "def recall(recommended_items, relevant_items):\n",
    "    \n",
    "    is_relevant = np.in1d(recommended_items, relevant_items, assume_unique=True)\n",
    "    \n",
    "    recall_score = np.sum(is_relevant, dtype=np.float32) / relevant_items.shape[0]\n",
    "    \n",
    "    return recall_score"
   ]
  },
  {
   "cell_type": "code",
   "execution_count": 19,
   "id": "d671f39d",
   "metadata": {},
   "outputs": [],
   "source": [
    "def AP(recommended_items, relevant_items):\n",
    "   \n",
    "    is_relevant = np.in1d(recommended_items, relevant_items, assume_unique=True)\n",
    "    \n",
    "    # Cumulative sum: precision at 1, at 2, at 3 ...\n",
    "    p_at_k = is_relevant * np.cumsum(is_relevant, dtype=np.float32) / (1 + np.arange(is_relevant.shape[0]))\n",
    "    \n",
    "    ap_score = np.sum(p_at_k) / np.min([relevant_items.shape[0], is_relevant.shape[0]])\n",
    "\n",
    "    return ap_score"
   ]
  },
  {
   "cell_type": "code",
   "execution_count": 20,
   "id": "2788b417",
   "metadata": {},
   "outputs": [],
   "source": [
    "# We pass as paramether the recommender class\n",
    "\n",
    "def evaluate_algorithm(URM_test, recommender_object, at=5):\n",
    "    \n",
    "    cumulative_precision = 0.0\n",
    "    cumulative_recall = 0.0\n",
    "    cumulative_AP = 0.0\n",
    "    \n",
    "    num_eval = 0\n",
    "\n",
    "\n",
    "    for user_id in range(URM_test.shape[0]):\n",
    "\n",
    "        relevant_items = URM_test.indices[URM_test.indptr[user_id]:URM_test.indptr[user_id+1]]\n",
    "        \n",
    "        if len(relevant_items)>0:\n",
    "            \n",
    "            recommended_items = recommender_object.recommend(user_id, at=at)\n",
    "            num_eval+=1\n",
    "\n",
    "            cumulative_precision += precision(recommended_items, relevant_items)\n",
    "            cumulative_recall += recall(recommended_items, relevant_items)\n",
    "            cumulative_AP += AP(recommended_items, relevant_items)\n",
    "            \n",
    "    cumulative_precision /= num_eval\n",
    "    cumulative_recall /= num_eval\n",
    "    MAP = cumulative_AP / num_eval\n",
    "    \n",
    "    print(\"Recommender results are: Precision = {:.4f}, Recall = {:.4f}, MAP = {:.4f}\".format(\n",
    "        cumulative_precision, cumulative_recall, MAP)) "
   ]
  },
  {
   "cell_type": "markdown",
   "id": "554bad79",
   "metadata": {},
   "source": [
    "## 0. Random Recommender"
   ]
  },
  {
   "cell_type": "code",
   "execution_count": 21,
   "id": "6487b5f5",
   "metadata": {},
   "outputs": [],
   "source": [
    "class RandomRecommender(object):\n",
    "    def fit(self, train_URM):\n",
    "        self.n_items = train_URM.shape[1]\n",
    "        # fixed RNG for reproducible recommendations\n",
    "        self.random_state = np.random.RandomState(0)\n",
    "        \n",
    "    def recommend(self, user_id, at):\n",
    "        return self.random_state.choice(self.n_items, at, replace=False)\n"
   ]
  },
  {
   "cell_type": "code",
   "execution_count": 22,
   "id": "a881eee9",
   "metadata": {},
   "outputs": [
    {
     "name": "stdout",
     "output_type": "stream",
     "text": [
      "User 0: recommended items [ 33114 259948 246161 216245 100823]\n",
      "User 1: recommended items [94169 75495 46286 69366 23946]\n",
      "User 2: recommended items [238102  94055  83538 337443  99988]\n",
      "User 3: recommended items [250676  47826 144913 253999 148973]\n",
      "User 4: recommended items [293572 254488 153547 314339 288952]\n"
     ]
    }
   ],
   "source": [
    "randRec = RandomRecommender()\n",
    "randRec.fit(train_URM)\n",
    "for user_id in range(5):\n",
    "    recommended_items = randRec.recommend(user_id, at=5)\n",
    "    print(\"User {}: recommended items {}\".format(user_id, recommended_items))"
   ]
  },
  {
   "cell_type": "code",
   "execution_count": 26,
   "id": "18bdcea1",
   "metadata": {},
   "outputs": [
    {
     "name": "stdout",
     "output_type": "stream",
     "text": [
      "Recommender results are: Precision = 0.0000, Recall = 0.0000, MAP = 0.0000\n"
     ]
    }
   ],
   "source": [
    "evaluate_algorithm(test_URM, randRec, at=5)"
   ]
  },
  {
   "cell_type": "markdown",
   "id": "164a0b2d",
   "metadata": {},
   "source": [
    "## 1. Top Popular Recommender"
   ]
  },
  {
   "cell_type": "code",
   "execution_count": 27,
   "id": "8cc46216",
   "metadata": {},
   "outputs": [],
   "source": [
    "class TopPopularRecommender(object):\n",
    "    def fit(self, train_URM):\n",
    "        self.train_URM = train_URM\n",
    "        item_popularity = np.ediff1d(train_URM.tocsc().indptr)\n",
    "        self.popular_items = np.argsort(item_popularity)\n",
    "        self.popular_items = np.flip(self.popular_items, axis=0)\n",
    "    def recommend(self, user_id, at, remove_seen=True):\n",
    "        if remove_seen:\n",
    "            seen_items = self.train_URM.indices[self.train_URM.indptr[user_id]:self.train_URM.indptr[user_id + 1]]\n",
    "            unseen_items_mask = np.in1d(self.popular_items, seen_items, assume_unique=True, invert=True)\n",
    "            unseen_items = self.popular_items[unseen_items_mask]\n",
    "            recommended_items = unseen_items[0:at]\n",
    "        else:\n",
    "            recommended_items = self.popular_items[:at]\n",
    "        return recommended_items"
   ]
  },
  {
   "cell_type": "code",
   "execution_count": 28,
   "id": "daf5fbbe",
   "metadata": {},
   "outputs": [
    {
     "name": "stdout",
     "output_type": "stream",
     "text": [
      "User 0: recommended items [ 452  421  424 2836 1365]\n",
      "User 1: recommended items [ 452  421  424 2836 1365]\n",
      "User 2: recommended items [ 452  421  424 2836 1365]\n",
      "User 3: recommended items [ 452  421  424 2836 1365]\n",
      "User 4: recommended items [ 452  421  424 2836 1365]\n",
      "Recommender results are: Precision = 0.0064, Recall = 0.0107, MAP = 0.0089\n"
     ]
    }
   ],
   "source": [
    "topPopRec = TopPopularRecommender()\n",
    "topPopRec.fit(train_URM)\n",
    "for user_id in range(5):\n",
    "    recommended_items = topPopRec.recommend(user_id, at=5)\n",
    "    print(\"User {}: recommended items {}\".format(user_id, recommended_items))\n",
    "evaluate_algorithm(test_URM, topPopRec, at=5)\n"
   ]
  },
  {
   "cell_type": "markdown",
   "id": "db429e5f",
   "metadata": {},
   "source": [
    "## 2. Global Effect Recommender"
   ]
  },
  {
   "cell_type": "code",
   "execution_count": 29,
   "id": "1e39e6a9",
   "metadata": {},
   "outputs": [
    {
     "name": "stdout",
     "output_type": "stream",
     "text": [
      "Global average rating is 2.8681\n"
     ]
    }
   ],
   "source": [
    "globalAverage = np.mean(train_URM.data)\n",
    "\n",
    "print(\"Global average rating is {:.4f}\".format(globalAverage))"
   ]
  },
  {
   "cell_type": "code",
   "execution_count": 30,
   "id": "fa928fb0",
   "metadata": {},
   "outputs": [
    {
     "name": "stdout",
     "output_type": "stream",
     "text": [
      "[ 0  5  0  3  6  8  7 10  0  0]\n",
      "[-2.86812142  2.13187858 -2.86812142  0.13187858  3.13187858  5.13187858\n",
      "  4.13187858  7.13187858 -2.86812142 -2.86812142]\n"
     ]
    }
   ],
   "source": [
    "train_URM_unbiased = train_URM.copy() \n",
    "train_URM_unbiased.data = train_URM_unbiased.data - globalAverage\n",
    "\n",
    "print(train_URM.data[:10])\n",
    "print(train_URM_unbiased.data[:10])\n"
   ]
  },
  {
   "cell_type": "code",
   "execution_count": 31,
   "id": "927162d7",
   "metadata": {},
   "outputs": [
    {
     "name": "stdout",
     "output_type": "stream",
     "text": [
      "(1, 340556)\n",
      "(340556,)\n"
     ]
    }
   ],
   "source": [
    "lambda_item = 25\n",
    "lambda_user = 10\n",
    "\n",
    "col_nnz = np.ediff1d(sps.csc_matrix(train_URM_unbiased).indptr)\n",
    "\n",
    "item_mean_rating = train_URM_unbiased.sum(axis=0) / (col_nnz+lambda_item)\n",
    "print(item_mean_rating.shape)\n",
    "item_mean_rating = np.array(item_mean_rating).ravel()\n",
    "print(item_mean_rating.shape)\n",
    "item_mean_rating[col_nnz == 0] = -np.inf\n"
   ]
  },
  {
   "cell_type": "code",
   "execution_count": 32,
   "id": "157a03fa",
   "metadata": {},
   "outputs": [
    {
     "name": "stdout",
     "output_type": "stream",
     "text": [
      "[-0.1500237  -0.02726825  1.01841061  0.00507225  0.12045687  0.19495397\n",
      "  0.32853498        -inf  0.45589593  0.15791693]\n"
     ]
    }
   ],
   "source": [
    "print(item_mean_rating[:10])"
   ]
  },
  {
   "cell_type": "code",
   "execution_count": 33,
   "id": "4ae57181",
   "metadata": {},
   "outputs": [
    {
     "data": {
      "image/png": "[encoded data removed]",
      "text/plain": [
       "<Figure size 640x480 with 1 Axes>"
      ]
     },
     "metadata": {},
     "output_type": "display_data"
    }
   ],
   "source": [
    "item_mean_rating = np.array(item_mean_rating).squeeze()\n",
    "item_mean_rating = np.sort(item_mean_rating[item_mean_rating != 0])\n",
    "\n",
    "plt.plot(item_mean_rating, 'ro')\n",
    "plt.ylabel('Item Bias')\n",
    "plt.xlabel('Sorted Item')\n",
    "plt.show()"
   ]
  },
  {
   "cell_type": "code",
   "execution_count": 34,
   "id": "864fc1fa",
   "metadata": {},
   "outputs": [
    {
     "name": "stdout",
     "output_type": "stream",
     "text": [
      "[-0.26073831  0.19380714 -0.26073831  0.27197976        -inf  0.46653442\n",
      "        -inf  0.37562533  0.6483526  -0.81946326]\n"
     ]
    }
   ],
   "source": [
    "row_nnz = np.ediff1d(sps.csr_matrix(train_URM_unbiased).indptr)\n",
    "\n",
    "user_mean_rating = train_URM_unbiased.sum(axis=1).ravel() / (row_nnz + lambda_user)\n",
    "\n",
    "user_mean_rating = np.array(user_mean_rating).ravel()\n",
    "\n",
    "user_mean_rating[row_nnz == 0 ] = -np.inf\n",
    "\n",
    "print(user_mean_rating[:10])\n"
   ]
  },
  {
   "cell_type": "code",
   "execution_count": 35,
   "id": "90c5db53",
   "metadata": {},
   "outputs": [
    {
     "data": {
      "image/png": "[encoded data removed]",
      "text/plain": [
       "<Figure size 640x480 with 1 Axes>"
      ]
     },
     "metadata": {},
     "output_type": "display_data"
    }
   ],
   "source": [
    "user_mean_rating = np.array(user_mean_rating).squeeze()\n",
    "user_mean_rating = np.sort(user_mean_rating[user_mean_rating!=0.0])\n",
    "\n",
    "plt.plot(user_mean_rating, 'ro')\n",
    "plt.ylabel('User Bias')\n",
    "plt.xlabel('Sorted User')\n",
    "plt.show()"
   ]
  },
  {
   "cell_type": "code",
   "execution_count": 41,
   "id": "5739d27a",
   "metadata": {},
   "outputs": [],
   "source": [
    "class GlobalEffectRecommender(object):\n",
    "    def fit(self, train_URM, lambda_user = 10, lambda_item=25):\n",
    "        self.train_URM = train_URM\n",
    "        self.mu = self.train_URM.data.sum() / self.train_URM.nnz\n",
    "        self.bestRatedItems = np.flip(np.argsort(item_mean_rating), axis=0)\n",
    "        \n",
    "    def recommend(self, user_id, at, remove_seen=True):\n",
    "        if remove_seen:\n",
    "            seen_items = self.train_URM.indices[self.train_URM.indptr[user_id]:self.train_URM.indptr[user_id + 1]]\n",
    "            unseen_items_mask = np.in1d(self.bestRatedItems, seen_items, assume_unique=True, invert=True)\n",
    "            unseen_items = self.bestRatedItems[unseen_items_mask]\n",
    "            recommended_items = unseen_items[0:at]\n",
    "        else:\n",
    "            recommended_items = self.bestRatedItems[:at]\n",
    "        return recommended_items\n",
    "    "
   ]
  },
  {
   "cell_type": "code",
   "execution_count": 42,
   "id": "4810655a",
   "metadata": {},
   "outputs": [
    {
     "name": "stdout",
     "output_type": "stream",
     "text": [
      "Recommender results are: Precision = 0.0000, Recall = 0.0000, MAP = 0.0000\n"
     ]
    }
   ],
   "source": [
    "globalEffectRecommender = GlobalEffectRecommender()\n",
    "globalEffectRecommender.fit(train_URM)\n",
    "\n",
    "evaluate_algorithm(test_URM, globalEffectRecommender)"
   ]
  },
  {
   "cell_type": "code",
   "execution_count": 43,
   "id": "0473e83c",
   "metadata": {},
   "outputs": [
    {
     "name": "stdout",
     "output_type": "stream",
     "text": [
      "Removing ratings <= 0\n",
      "Recommender results are: Precision = 0.0064, Recall = 0.0063, MAP = 0.0058\n",
      "Removing ratings <= 1\n",
      "Recommender results are: Precision = 0.0066, Recall = 0.0065, MAP = 0.0059\n",
      "Removing ratings <= 2\n",
      "Recommender results are: Precision = 0.0067, Recall = 0.0068, MAP = 0.0051\n",
      "Removing ratings <= 3\n",
      "Recommender results are: Precision = 0.0069, Recall = 0.0070, MAP = 0.0046\n",
      "Removing ratings <= 4\n",
      "Recommender results are: Precision = 0.0036, Recall = 0.0021, MAP = 0.0029\n"
     ]
    }
   ],
   "source": [
    "for rating_threshold in range(0, 5):\n",
    "    \n",
    "    print(\"Removing ratings <= {}\".format(rating_threshold))\n",
    "    \n",
    "    URM_train_filtered = train_URM.copy()\n",
    "    URM_train_filtered.data[train_URM.data <= rating_threshold] = 0\n",
    "    \n",
    "    URM_train_filtered.eliminate_zeros()\n",
    "    \n",
    "    topPopRecommender = TopPopularRecommender()\n",
    "    topPopRecommender.fit(URM_train_filtered)\n",
    "    \n",
    "    evaluate_algorithm(train_URM, topPopRecommender)"
   ]
  }
 ],
 "metadata": {
  "kernelspec": {
   "display_name": "RecSysFramework",
   "language": "python",
   "name": "recsysframework"
  },
  "language_info": {
   "codemirror_mode": {
    "name": "ipython",
    "version": 3
   },
   "file_extension": ".py",
   "mimetype": "text/x-python",
   "name": "python",
   "nbconvert_exporter": "python",
   "pygments_lexer": "ipython3",
   "version": "3.9.7"
  }
 },
 "nbformat": 4,
 "nbformat_minor": 5
}
